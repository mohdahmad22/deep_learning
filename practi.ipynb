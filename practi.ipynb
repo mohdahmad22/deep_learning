{
 "cells": [
  {
   "cell_type": "code",
   "execution_count": 122,
   "metadata": {},
   "outputs": [],
   "source": [
    "import cv2 as cv\n",
    "img=cv.imread('f:/DATASETS/khan.jpg')\n",
    "img=cv.resize(img,(500,500))"
   ]
  },
  {
   "cell_type": "code",
   "execution_count": 87,
   "metadata": {},
   "outputs": [],
   "source": [
    "img=cv.imread('e:/jan.jpg')\n",
    "img=cv.resize(img,(500,500))\n",
    "img_gray=cv.cvtColor(img,cv.COLOR_BGR2GRAY)\n",
    "img_gray=cv.GaussianBlur(img_gray,(21,21),0)\n",
    "ret,thres=cv.threshold(img_gray,150,255,cv.THRESH_BINARY_INV)\n",
    "contours,heirarchy=cv.findContours(thres,cv.RETR_TREE,cv.CHAIN_APPROX_NONE)"
   ]
  },
  {
   "cell_type": "code",
   "execution_count": 92,
   "metadata": {},
   "outputs": [],
   "source": [
    "cnt=contours[4]\n",
    "im=cv.drawContours(img,contours,-1,(0,100,0),3)"
   ]
  },
  {
   "cell_type": "code",
   "execution_count": 136,
   "metadata": {},
   "outputs": [],
   "source": [
    "cv.imshow('img',mask)\n",
    "cv.waitKey(4000)\n",
    "cv.destroyAllWindows()"
   ]
  },
  {
   "cell_type": "code",
   "execution_count": 114,
   "metadata": {},
   "outputs": [],
   "source": [
    "#detection of specific color in opencv"
   ]
  },
  {
   "cell_type": "code",
   "execution_count": 98,
   "metadata": {},
   "outputs": [],
   "source": [
    "import numpy as np"
   ]
  },
  {
   "cell_type": "code",
   "execution_count": 123,
   "metadata": {},
   "outputs": [],
   "source": [
    "hsv=cv.cvtColor(img,cv.COLOR_BGR2HSV)"
   ]
  },
  {
   "cell_type": "code",
   "execution_count": 133,
   "metadata": {},
   "outputs": [],
   "source": [
    "lower_red=np.array([10,10,100])\n",
    "upper_red=np.array([50,56,200])\n",
    "mask=cv.inRange(img,lower_red,upper_red)\n"
   ]
  },
  {
   "cell_type": "code",
   "execution_count": 134,
   "metadata": {},
   "outputs": [],
   "source": [
    "res=cv.bitwise_and(img,img,mask=mask)"
   ]
  },
  {
   "cell_type": "code",
   "execution_count": null,
   "metadata": {},
   "outputs": [],
   "source": []
  }
 ],
 "metadata": {
  "kernelspec": {
   "display_name": "Python 3",
   "language": "python",
   "name": "python3"
  },
  "language_info": {
   "codemirror_mode": {
    "name": "ipython",
    "version": 3
   },
   "file_extension": ".py",
   "mimetype": "text/x-python",
   "name": "python",
   "nbconvert_exporter": "python",
   "pygments_lexer": "ipython3",
   "version": "3.6.7"
  }
 },
 "nbformat": 4,
 "nbformat_minor": 2
}
