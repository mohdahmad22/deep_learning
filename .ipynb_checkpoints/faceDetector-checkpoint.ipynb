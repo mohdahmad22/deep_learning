{
 "cells": [
  {
   "cell_type": "code",
   "execution_count": 1,
   "metadata": {},
   "outputs": [],
   "source": []
  },
  {
   "cell_type": "code",
   "execution_count": null,
   "metadata": {},
   "outputs": [],
   "source": []
  },
  {
   "cell_type": "code",
   "execution_count": 1,
   "metadata": {},
   "outputs": [],
   "source": [
    "import cv2,time\n",
    "import numpy as np\n",
    "#face Detector\n",
    "cap=cv2.VideoCapture(0)\n",
    "a=1\n",
    "training_data=[]\n",
    "while True:\n",
    "    ret,frame=cap.read()\n",
    "    a=a+1\n",
    "    face_cascade=cv2.CascadeClassifier(\"f://cascade.xml\")\n",
    "    gray_img=cv2.cvtColor(frame,cv2.COLOR_BGRA2GRAY)\n",
    "    #cv2.imwrite('images.png',frame)\n",
    "    faces=face_cascade.detectMultiScale(gray_img,scaleFactor=1.06,minNeighbors=4)\n",
    "    for x,y,w,h in faces:\n",
    "        img=cv2.rectangle(frame,(x,y),(x+w,y+h),(0,255,0),2)\n",
    "    #resized=cv2.resize(img,(int(img.shape[1]/1),int(img.shape[0]/1)))\n",
    "    cv2.imshow(\"gray\",img)\n",
    "    training_data.append(frame)\n",
    "    key=cv2.waitKey(1)\n",
    "    if key==ord('q'):\n",
    "        break\n",
    "cap.release()"
   ]
  },
  {
   "cell_type": "code",
   "execution_count": 2,
   "metadata": {},
   "outputs": [],
   "source": [
    "import numpy as np\n",
    "np.save(\"FaceTrain\",training_data)"
   ]
  },
  {
   "cell_type": "code",
   "execution_count": 6,
   "metadata": {},
   "outputs": [],
   "source": [
    "data=np.array([training_data])"
   ]
  },
  {
   "cell_type": "code",
   "execution_count": 37,
   "metadata": {},
   "outputs": [
    {
     "name": "stdout",
     "output_type": "stream",
     "text": [
      "[140 131 120]\n"
     ]
    }
   ],
   "source": [
    "for i in data:\n",
    "    print(i[1][60][200])"
   ]
  },
  {
   "cell_type": "code",
   "execution_count": 6,
   "metadata": {},
   "outputs": [],
   "source": [
    "fa"
   ]
  },
  {
   "cell_type": "code",
   "execution_count": 7,
   "metadata": {},
   "outputs": [],
   "source": [
    "data=os.listdir('f:/DATASETS/images')"
   ]
  },
  {
   "cell_type": "code",
   "execution_count": 52,
   "metadata": {},
   "outputs": [],
   "source": [
    "tr_data=[]\n",
    "    tr_data.append([np.array(img_data)])\n",
    "    \n",
    "    \n",
    "    "
   ]
  },
  {
   "cell_type": "code",
   "execution_count": null,
   "metadata": {},
   "outputs": [],
   "source": []
  },
  {
   "cell_type": "code",
   "execution_count": null,
   "metadata": {},
   "outputs": [],
   "source": []
  }
 ],
 "metadata": {
  "kernelspec": {
   "display_name": "Python 3",
   "language": "python",
   "name": "python3"
  },
  "language_info": {
   "codemirror_mode": {
    "name": "ipython",
    "version": 3
   },
   "file_extension": ".py",
   "mimetype": "text/x-python",
   "name": "python",
   "nbconvert_exporter": "python",
   "pygments_lexer": "ipython3",
   "version": "3.6.7"
  }
 },
 "nbformat": 4,
 "nbformat_minor": 2
}
